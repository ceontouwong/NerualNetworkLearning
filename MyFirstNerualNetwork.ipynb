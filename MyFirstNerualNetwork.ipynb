{
 "cells": [
  {
   "cell_type": "code",
   "execution_count": 4,
   "metadata": {},
   "outputs": [],
   "source": [
    "import numpy\n",
    "import scipy.special\n",
    "import scipy.ndimage\n",
    "import matplotlib.pyplot\n",
    "\n",
    "#神经网络类\n",
    "class nerualNetwork:\n",
    "    \n",
    "    #初始化神经网络\n",
    "    def __init__(self, inputnodes, hiddennodes, outputnodes, learningrate):\n",
    "        #为输入层，隐藏层，输出层设定大小\n",
    "        self.inodes    = inputnodes\n",
    "        self.hnodes    = hiddennodes\n",
    "        self.onodes    = outputnodes\n",
    "        \n",
    "        #设定学习率\n",
    "        self.lr        = learningrate\n",
    "        \n",
    "        #生成链接矩阵\n",
    "        #根据正态分布采样权重:        采样中心，采样范围，              ，矩阵大小\n",
    "        self.wih = numpy.random.normal( 0.0, pow(self.hnodes, -0.5), (self.hnodes, self.inodes) )\n",
    "        self.who = numpy.random.normal( 0.0, pow(self.onodes, -0.5), (self.onodes, self.hnodes) )\n",
    "        \n",
    "        #sigmoid func\n",
    "        self.sigmoid   = lambda x: scipy.special.expit(x)\n",
    "        pass\n",
    "    \n",
    "    #训练\n",
    "    def train(self, inputs_list, targets_list):\n",
    "        #Part 1.*:查询输出\n",
    "        inputs         = numpy.array(inputs_list, ndmin=2).T\n",
    "        targets        = numpy.array(targets_list, ndmin=2).T\n",
    "        ########->hidden layer\n",
    "        hidden_outputs = self.sigmoid(numpy.dot(self.wih, inputs))\n",
    "        ########->output layer\n",
    "        final_outputs  = self.sigmoid(numpy.dot(self.who, hidden_outputs))\n",
    "        \n",
    "        #Part 2.0:计算误差\n",
    "        #output <- result\n",
    "        output_errors  = targets - final_outputs\n",
    "        #hidden <- output\n",
    "        hidden_errors  = numpy.dot(self.who.T, output_errors)\n",
    "        \n",
    "        #Part 2.1:更新权重\n",
    "        ########[hidden, output]\n",
    "        self.who += self.lr * numpy.dot((output_errors * final_outputs * (1.0 - final_outputs)), numpy.transpose(hidden_outputs))\n",
    "        ########[input , hidden]\n",
    "        self.wih += self.lr * numpy.dot((hidden_errors * hidden_outputs * (1.0 - hidden_outputs)), numpy.transpose(inputs))\n",
    "        pass\n",
    "    \n",
    "    #查询\n",
    "    def query(self, inputs_list):\n",
    "        #input_list -> 2d array\n",
    "        inputs         = numpy.array(inputs_list, ndmin=2).T\n",
    "        \n",
    "        #-> hidden layer\n",
    "        hidden_inputs  = numpy.dot(self.wih, inputs)\n",
    "        hidden_outputs = self.sigmoid(hidden_inputs)\n",
    "        \n",
    "        #-> output layer\n",
    "        final_inputs   = numpy.dot(self.who, hidden_outputs)\n",
    "        final_outputs  = self.sigmoid(final_inputs)\n",
    "        \n",
    "        return final_outputs"
   ]
  },
  {
   "cell_type": "code",
   "execution_count": 3,
   "metadata": {
    "scrolled": true
   },
   "outputs": [
    {
     "data": {
      "text/plain": [
       "array([[-0.24665725,  0.0517408 , -0.47720078],\n",
       "       [ 0.11514794, -0.13782948, -0.33221127],\n",
       "       [-0.22225433, -0.46714535, -0.13511265]])"
      ]
     },
     "execution_count": 3,
     "metadata": {},
     "output_type": "execute_result"
    }
   ],
   "source": [
    "numpy.random.rand(3, 3) - 0.5"
   ]
  },
  {
   "cell_type": "code",
   "execution_count": null,
   "metadata": {},
   "outputs": [],
   "source": [
    "data_file = open(\"mnist_dataset/mnist_train_100.csv\", 'r')\n",
    "data_list = data_file.readlines()\n",
    "data_file.close()"
   ]
  },
  {
   "cell_type": "code",
   "execution_count": null,
   "metadata": {},
   "outputs": [],
   "source": [
    "len(data_list)"
   ]
  },
  {
   "cell_type": "code",
   "execution_count": null,
   "metadata": {},
   "outputs": [],
   "source": [
    "data_list[0]"
   ]
  },
  {
   "cell_type": "code",
   "execution_count": null,
   "metadata": {},
   "outputs": [],
   "source": [
    "import numpy\n",
    "import matplotlib.pyplot\n",
    "\n",
    "all_values = data_list[0].split(',')\n",
    "image_array = numpy.asfarray(all_values[1:]).reshape((28,28))\n",
    "matplotlib.pyplot.imshow( image_array, cmap = 'Greys', interpolation = 'None')"
   ]
  },
  {
   "cell_type": "code",
   "execution_count": null,
   "metadata": {},
   "outputs": [],
   "source": [
    "#scale input to range 0.01 to 1.0\n",
    "values = (( numpy.asfarray(all_values[1:]) ) / 255.0 * 0.99)+ 0.01\n",
    "print(values)"
   ]
  },
  {
   "cell_type": "code",
   "execution_count": 18,
   "metadata": {},
   "outputs": [
    {
     "name": "stdout",
     "output_type": "stream",
     "text": [
      "DONE\n"
     ]
    }
   ],
   "source": [
    "#训练\n",
    "inputnodes   = 784\n",
    "hiddennodes  = 200\n",
    "outputnodes  = 10\n",
    "\n",
    "learningrate = 0.1\n",
    "\n",
    "n = nerualNetwork(inputnodes, hiddennodes, outputnodes, learningrate)\n",
    "epochs = 5\n",
    "\n",
    "data_file = open(\"mnist_test.csv\", 'r')\n",
    "data_list = data_file.readlines()\n",
    "data_file.close()\n",
    "\n",
    "#train\n",
    "for e in range(epochs):\n",
    "    for record in data_list:\n",
    "        #以','分割\n",
    "        all_values = record.split(',')\n",
    "        #绘图\n",
    "        #image_array = numpy.asfarray(all_values[1:]).reshape((28,28))\n",
    "        #matplotlib.pyplot.imshow( image_array, cmap = 'Greys', interpolation = 'None')\n",
    "        #输入处理\n",
    "        values = (( numpy.asfarray(all_values[1:]) )/ 255 * 0.99) + 0.01\n",
    "        #期望值处理\n",
    "        targets = numpy.zeros(outputnodes) + 0.01\n",
    "        targets[int(all_values[0])] = 0.99\n",
    "\n",
    "        n.train(values, targets)\n",
    "    \n",
    "print('DONE')"
   ]
  },
  {
   "cell_type": "code",
   "execution_count": 11,
   "metadata": {
    "scrolled": false
   },
   "outputs": [
    {
     "name": "stdout",
     "output_type": "stream",
     "text": [
      "0\n",
      "1\n",
      "2\n",
      "3\n",
      "4\n",
      "5\n",
      "6\n",
      "7\n",
      "8\n",
      "9\n",
      "DONE\n"
     ]
    }
   ],
   "source": [
    "#旋转\n",
    "#训练\n",
    "inputnodes   = 784\n",
    "hiddennodes  = 200\n",
    "outputnodes  = 10\n",
    "\n",
    "learningrate = 0.1\n",
    "\n",
    "n = nerualNetwork(inputnodes, hiddennodes, outputnodes, learningrate)\n",
    "epochs = 10\n",
    "\n",
    "data_file = open(\"mnist_test.csv\", 'r')\n",
    "data_list = data_file.readlines()\n",
    "data_file.close()\n",
    "\n",
    "#train\n",
    "for e in range(epochs):\n",
    "    print(e)\n",
    "    for record in data_list:\n",
    "        #以','分割\n",
    "        all_values = record.split(',')\n",
    "        #绘图\n",
    "        #image_array = numpy.asfarray(all_values[1:]).reshape((28,28))\n",
    "        #matplotlib.pyplot.imshow( image_array, cmap = 'Greys', interpolation = 'None')\n",
    "        #输入处理\n",
    "        values = (( numpy.asfarray(all_values[1:]) )/ 255 * 0.99) + 0.01\n",
    "        #旋转\n",
    "        values_plus10  = scipy.ndimage.interpolation.rotate(values.reshape(28, 28),  10, cval = 0.01, reshape = False)\n",
    "        values_minus10 = scipy.ndimage.interpolation.rotate(values.reshape(28, 28), -10, cval = 0.01, reshape = False)\n",
    "        list_plus10  = values_plus10.reshape(1,784).tolist()\n",
    "        list_minus10 = values_minus10.reshape(1,784).tolist()\n",
    "        #期望值处理\n",
    "        targets = numpy.zeros(outputnodes) + 0.01\n",
    "        targets[int(all_values[0])] = 0.99\n",
    "        \n",
    "        n.train(values, targets)\n",
    "        n.train(list_plus10, targets)\n",
    "        n.train(list_minus10, targets)\n",
    "        \n",
    "print('DONE')"
   ]
  },
  {
   "cell_type": "code",
   "execution_count": 12,
   "metadata": {},
   "outputs": [
    {
     "name": "stdout",
     "output_type": "stream",
     "text": [
      "DONE\n"
     ]
    }
   ],
   "source": [
    "#测试\n",
    "\n",
    "test_data_file = open(\"mnist_test.csv\", 'r')\n",
    "test_data_list = test_data_file.readlines()\n",
    "test_data_file.close()\n",
    "\n",
    "score = []\n",
    "for record in test_data_list:\n",
    "    all_values = record.split(',')\n",
    "    values = ( numpy.asfarray(all_values[1:]) )/ 255 * 0.99 + 0.01\n",
    "    correct_label = int(all_values[0])\n",
    "    #print(\"Correct label: \", correct_label)\n",
    "    \n",
    "    answer = n.query(values)\n",
    "    label = numpy.argmax(answer)\n",
    "    #print(\"Network guess: \", label)\n",
    "    \n",
    "    if (label == correct_label):\n",
    "        score.append(1)\n",
    "    else:\n",
    "        score.append(0)\n",
    "\n",
    "print('DONE')"
   ]
  },
  {
   "cell_type": "code",
   "execution_count": 13,
   "metadata": {},
   "outputs": [
    {
     "name": "stdout",
     "output_type": "stream",
     "text": [
      "Performance =  0.9916\n"
     ]
    }
   ],
   "source": [
    "scorecard = numpy.asarray(score)\n",
    "print(\"Performance = \", scorecard.sum() / scorecard.size)"
   ]
  }
 ],
 "metadata": {
  "kernelspec": {
   "display_name": "Python 3",
   "language": "python",
   "name": "python3"
  },
  "language_info": {
   "codemirror_mode": {
    "name": "ipython",
    "version": 3
   },
   "file_extension": ".py",
   "mimetype": "text/x-python",
   "name": "python",
   "nbconvert_exporter": "python",
   "pygments_lexer": "ipython3",
   "version": "3.6.5"
  }
 },
 "nbformat": 4,
 "nbformat_minor": 2
}
